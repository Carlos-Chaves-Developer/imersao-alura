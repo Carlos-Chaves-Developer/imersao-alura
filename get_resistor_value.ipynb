{
  "nbformat": 4,
  "nbformat_minor": 0,
  "metadata": {
    "colab": {
      "provenance": [],
      "include_colab_link": true
    },
    "kernelspec": {
      "name": "python3",
      "display_name": "Python 3"
    },
    "language_info": {
      "name": "python"
    }
  },
  "cells": [
    {
      "cell_type": "markdown",
      "metadata": {
        "id": "view-in-github",
        "colab_type": "text"
      },
      "source": [
        "<a href=\"https://colab.research.google.com/github/Carlos-Chaves-Developer/imersao-alura/blob/main/get_resistor_value.ipynb\" target=\"_parent\"><img src=\"https://colab.research.google.com/assets/colab-badge.svg\" alt=\"Open In Colab\"/></a>"
      ]
    },
    {
      "cell_type": "code",
      "execution_count": 1,
      "metadata": {
        "id": "cRSS904hMN9g"
      },
      "outputs": [],
      "source": [
        "!pip install -q -U google-generativeai"
      ]
    },
    {
      "cell_type": "code",
      "source": [
        "import google.generativeai as genai\n",
        "from google.colab import userdata\n",
        "from IPython.display import Image\n",
        "\n",
        "api_key = userdata.get('API_KEY')\n",
        "genai.configure(api_key=api_key)"
      ],
      "metadata": {
        "id": "xN37miEbMRVJ"
      },
      "execution_count": 2,
      "outputs": []
    },
    {
      "cell_type": "code",
      "source": [
        "generation_config = {\n",
        "  \"temperature\": 0,\n",
        "  #\"top_p\": 0.95,\n",
        "  #\"top_k\": 16,\n",
        "  \"max_output_tokens\": 1024,\n",
        "}\n",
        "\n",
        "safety_settings = {\n",
        "    \"HARASSMENT\": \"BLOCK_NONE\",\n",
        "    \"HATE\": \"BLOCK_NONE\",\n",
        "    \"SEXUAL\": \"BLOCK_NONE\",\n",
        "    \"DANGEROUS\": \"BLOCK_NONE\",\n",
        "}\n"
      ],
      "metadata": {
        "id": "X_TfOarLMkZY"
      },
      "execution_count": 48,
      "outputs": []
    },
    {
      "cell_type": "code",
      "source": [
        "\n",
        "model = genai.GenerativeModel(model_name=\"gemini-1.5-pro-latest\",\n",
        "                              generation_config=generation_config,\n",
        "                              safety_settings=safety_settings)\n",
        "\n",
        "sample_images = ['resistor1.jpg', 'resistor2.jpg']\n",
        "\n",
        "for imageObj in sample_images:\n",
        "\n",
        "   print('- Imagem resistor:')\n",
        "\n",
        "   prompt = ['Obter o valor da resistência e listar as cores identificadas',\n",
        "             genai.upload_file(imageObj)]\n",
        "\n",
        "   img = Image(filename=imageObj, height=150, width=150)\n",
        "\n",
        "   display(img)\n",
        "\n",
        "   print('\\n------------ Valores obtidos: --------------')\n",
        "   response = model.generate_content(prompt)\n",
        "   print(response.text)\n",
        "   print('--------------------------------------------\\n')"
      ],
      "metadata": {
        "colab": {
          "base_uri": "https://localhost:8080/",
          "height": 1000
        },
        "id": "OKUxWxZJMu4H",
        "outputId": "8eb7c54c-9926-4a23-85a0-ea805d33afee"
      },
      "execution_count": 63,
      "outputs": [
        {
          "output_type": "stream",
          "name": "stdout",
          "text": [
            "- Imagem resistor:\n"
          ]
        },
        {
          "output_type": "display_data",
          "data": {
            "image/jpeg": "[encoded data removed]",
            "text/plain": [
              "<IPython.core.display.Image object>"
            ]
          },
          "metadata": {
            "image/jpeg": {
              "width": 150,
              "height": 150
            }
          }
        },
        {
          "output_type": "stream",
          "name": "stdout",
          "text": [
            "\n",
            "------------ Valores obtidos: --------------\n",
            "O resistor mostrado na imagem tem as seguintes cores:\n",
            "\n",
            "* **Vermelho**\n",
            "* **Preto**\n",
            "* **Amarelo**\n",
            "* **Marrom**\n",
            "\n",
            "Usando o código de cores do resistor, podemos determinar o valor da resistência:\n",
            "\n",
            "* **Vermelho:** 2\n",
            "* **Preto:** 0\n",
            "* **Amarelo:** Multiplicador de 10^4 (10.000)\n",
            "* **Marrom:** Tolerância de ± 1%\n",
            "\n",
            "Portanto, o valor da resistência é **200.000 ohms** (200 kΩ) com uma tolerância de **± 1%**. \n",
            "\n",
            "--------------------------------------------\n",
            "\n",
            "- Imagem resistor:\n"
          ]
        },
        {
          "output_type": "display_data",
          "data": {
            "image/jpeg": "[encoded data removed]",
            "text/plain": [
              "<IPython.core.display.Image object>"
            ]
          },
          "metadata": {
            "image/jpeg": {
              "width": 150,
              "height": 150
            }
          }
        },
        {
          "output_type": "stream",
          "name": "stdout",
          "text": [
            "\n",
            "------------ Valores obtidos: --------------\n",
            "## Valor da resistência e cores identificadas:\n",
            "\n",
            "**Cores:**\n",
            "\n",
            "1. **Marrom**\n",
            "2. **Preto**\n",
            "3. **Laranja**\n",
            "4. **Dourado**\n",
            "\n",
            "**Valor:**\n",
            "\n",
            "* Marrom: 1\n",
            "* Preto: 0\n",
            "* Laranja: 3\n",
            "* Dourado: 5% (tolerância)\n",
            "\n",
            "**Portanto, o valor da resistência é 10kΩ com tolerância de 5%.** \n",
            "\n",
            "--------------------------------------------\n",
            "\n"
          ]
        }
      ]
    }
  ]
}